{
 "cells": [
  {
   "cell_type": "markdown",
   "metadata": {},
   "source": [
    " Import Necessary Packages"
   ]
  },
  {
   "cell_type": "code",
   "execution_count": 1,
   "metadata": {},
   "outputs": [],
   "source": [
    "import numpy as np\n",
    "import pandas as pd"
   ]
  },
  {
   "cell_type": "markdown",
   "metadata": {},
   "source": [
    "Set dataset directory"
   ]
  },
  {
   "cell_type": "code",
   "execution_count": 2,
   "metadata": {},
   "outputs": [],
   "source": [
    "dataset_Diretory=\"./Datasets/ml-100k\"\n",
    "dataset_with_credit=\"./Datasets\""
   ]
  },
  {
   "cell_type": "markdown",
   "metadata": {},
   "source": [
    "# 1.Data Preparing"
   ]
  },
  {
   "cell_type": "markdown",
   "metadata": {},
   "source": [
    " Get the Genres from the dataset"
   ]
  },
  {
   "cell_type": "code",
   "execution_count": 3,
   "metadata": {},
   "outputs": [
    {
     "data": {
      "text/html": [
       "<div>\n",
       "<style scoped>\n",
       "    .dataframe tbody tr th:only-of-type {\n",
       "        vertical-align: middle;\n",
       "    }\n",
       "\n",
       "    .dataframe tbody tr th {\n",
       "        vertical-align: top;\n",
       "    }\n",
       "\n",
       "    .dataframe thead th {\n",
       "        text-align: right;\n",
       "    }\n",
       "</style>\n",
       "<table border=\"1\" class=\"dataframe\">\n",
       "  <thead>\n",
       "    <tr style=\"text-align: right;\">\n",
       "      <th></th>\n",
       "      <th>unknown</th>\n",
       "      <th>0</th>\n",
       "    </tr>\n",
       "  </thead>\n",
       "  <tbody>\n",
       "    <tr>\n",
       "      <th>0</th>\n",
       "      <td>Action</td>\n",
       "      <td>1</td>\n",
       "    </tr>\n",
       "    <tr>\n",
       "      <th>1</th>\n",
       "      <td>Adventure</td>\n",
       "      <td>2</td>\n",
       "    </tr>\n",
       "    <tr>\n",
       "      <th>2</th>\n",
       "      <td>Animation</td>\n",
       "      <td>3</td>\n",
       "    </tr>\n",
       "    <tr>\n",
       "      <th>3</th>\n",
       "      <td>Children's</td>\n",
       "      <td>4</td>\n",
       "    </tr>\n",
       "    <tr>\n",
       "      <th>4</th>\n",
       "      <td>Comedy</td>\n",
       "      <td>5</td>\n",
       "    </tr>\n",
       "  </tbody>\n",
       "</table>\n",
       "</div>"
      ],
      "text/plain": [
       "      unknown  0\n",
       "0      Action  1\n",
       "1   Adventure  2\n",
       "2   Animation  3\n",
       "3  Children's  4\n",
       "4      Comedy  5"
      ]
     },
     "execution_count": 3,
     "metadata": {},
     "output_type": "execute_result"
    }
   ],
   "source": [
    "# Genres\n",
    "genre_df = pd.read_csv(f'{dataset_Diretory}/u.genre', sep='|', encoding='latin-1')\n",
    "genre_columns = [\"unknown\"] + list(genre_df[genre_df.columns[0]].values)\n",
    "genre_df.head()"
   ]
  },
  {
   "cell_type": "markdown",
   "metadata": {},
   "source": [
    "### Loading the Movies dataset"
   ]
  },
  {
   "cell_type": "code",
   "execution_count": 4,
   "metadata": {},
   "outputs": [
    {
     "data": {
      "text/html": [
       "<div>\n",
       "<style scoped>\n",
       "    .dataframe tbody tr th:only-of-type {\n",
       "        vertical-align: middle;\n",
       "    }\n",
       "\n",
       "    .dataframe tbody tr th {\n",
       "        vertical-align: top;\n",
       "    }\n",
       "\n",
       "    .dataframe thead th {\n",
       "        text-align: right;\n",
       "    }\n",
       "</style>\n",
       "<table border=\"1\" class=\"dataframe\">\n",
       "  <thead>\n",
       "    <tr style=\"text-align: right;\">\n",
       "      <th></th>\n",
       "      <th>movie_id</th>\n",
       "      <th>title</th>\n",
       "      <th>release_date</th>\n",
       "      <th>video_release_date</th>\n",
       "      <th>imdb_url</th>\n",
       "      <th>unknown</th>\n",
       "      <th>Action</th>\n",
       "      <th>Adventure</th>\n",
       "      <th>Animation</th>\n",
       "      <th>Children's</th>\n",
       "      <th>...</th>\n",
       "      <th>Jared Harris</th>\n",
       "      <th>Jonathan Rhys Meyers</th>\n",
       "      <th>Julie T. Wallace</th>\n",
       "      <th>Thomas Schlamme</th>\n",
       "      <th>Werner Herzog</th>\n",
       "      <th>Vittorio Mezzogiorno</th>\n",
       "      <th>Stefan Glowacz</th>\n",
       "      <th>Mathilda May</th>\n",
       "      <th>Al Waxman</th>\n",
       "      <th>Gunilla Karlzen</th>\n",
       "    </tr>\n",
       "  </thead>\n",
       "  <tbody>\n",
       "    <tr>\n",
       "      <th>0</th>\n",
       "      <td>1</td>\n",
       "      <td>Toy Story (1995)</td>\n",
       "      <td>01-Jan-1995</td>\n",
       "      <td>NaN</td>\n",
       "      <td>http://us.imdb.com/M/title-exact?Toy%20Story%2...</td>\n",
       "      <td>0</td>\n",
       "      <td>0</td>\n",
       "      <td>0</td>\n",
       "      <td>1</td>\n",
       "      <td>1</td>\n",
       "      <td>...</td>\n",
       "      <td>0</td>\n",
       "      <td>0</td>\n",
       "      <td>0</td>\n",
       "      <td>0</td>\n",
       "      <td>0</td>\n",
       "      <td>0</td>\n",
       "      <td>0</td>\n",
       "      <td>0</td>\n",
       "      <td>0</td>\n",
       "      <td>0</td>\n",
       "    </tr>\n",
       "    <tr>\n",
       "      <th>1</th>\n",
       "      <td>2</td>\n",
       "      <td>GoldenEye (1995)</td>\n",
       "      <td>01-Jan-1995</td>\n",
       "      <td>NaN</td>\n",
       "      <td>http://us.imdb.com/M/title-exact?GoldenEye%20(...</td>\n",
       "      <td>0</td>\n",
       "      <td>1</td>\n",
       "      <td>1</td>\n",
       "      <td>0</td>\n",
       "      <td>0</td>\n",
       "      <td>...</td>\n",
       "      <td>0</td>\n",
       "      <td>0</td>\n",
       "      <td>0</td>\n",
       "      <td>0</td>\n",
       "      <td>0</td>\n",
       "      <td>0</td>\n",
       "      <td>0</td>\n",
       "      <td>0</td>\n",
       "      <td>0</td>\n",
       "      <td>0</td>\n",
       "    </tr>\n",
       "    <tr>\n",
       "      <th>2</th>\n",
       "      <td>3</td>\n",
       "      <td>Four Rooms (1995)</td>\n",
       "      <td>01-Jan-1995</td>\n",
       "      <td>NaN</td>\n",
       "      <td>http://us.imdb.com/M/title-exact?Four%20Rooms%...</td>\n",
       "      <td>0</td>\n",
       "      <td>0</td>\n",
       "      <td>0</td>\n",
       "      <td>0</td>\n",
       "      <td>0</td>\n",
       "      <td>...</td>\n",
       "      <td>0</td>\n",
       "      <td>0</td>\n",
       "      <td>0</td>\n",
       "      <td>0</td>\n",
       "      <td>0</td>\n",
       "      <td>0</td>\n",
       "      <td>0</td>\n",
       "      <td>0</td>\n",
       "      <td>0</td>\n",
       "      <td>0</td>\n",
       "    </tr>\n",
       "    <tr>\n",
       "      <th>3</th>\n",
       "      <td>4</td>\n",
       "      <td>Get Shorty (1995)</td>\n",
       "      <td>01-Jan-1995</td>\n",
       "      <td>NaN</td>\n",
       "      <td>http://us.imdb.com/M/title-exact?Get%20Shorty%...</td>\n",
       "      <td>0</td>\n",
       "      <td>1</td>\n",
       "      <td>0</td>\n",
       "      <td>0</td>\n",
       "      <td>0</td>\n",
       "      <td>...</td>\n",
       "      <td>0</td>\n",
       "      <td>0</td>\n",
       "      <td>0</td>\n",
       "      <td>0</td>\n",
       "      <td>0</td>\n",
       "      <td>0</td>\n",
       "      <td>0</td>\n",
       "      <td>0</td>\n",
       "      <td>0</td>\n",
       "      <td>0</td>\n",
       "    </tr>\n",
       "    <tr>\n",
       "      <th>4</th>\n",
       "      <td>5</td>\n",
       "      <td>Copycat (1995)</td>\n",
       "      <td>01-Jan-1995</td>\n",
       "      <td>NaN</td>\n",
       "      <td>http://us.imdb.com/M/title-exact?Copycat%20(1995)</td>\n",
       "      <td>0</td>\n",
       "      <td>0</td>\n",
       "      <td>0</td>\n",
       "      <td>0</td>\n",
       "      <td>0</td>\n",
       "      <td>...</td>\n",
       "      <td>0</td>\n",
       "      <td>0</td>\n",
       "      <td>0</td>\n",
       "      <td>0</td>\n",
       "      <td>0</td>\n",
       "      <td>0</td>\n",
       "      <td>0</td>\n",
       "      <td>0</td>\n",
       "      <td>0</td>\n",
       "      <td>0</td>\n",
       "    </tr>\n",
       "  </tbody>\n",
       "</table>\n",
       "<p>5 rows × 2549 columns</p>\n",
       "</div>"
      ],
      "text/plain": [
       "   movie_id              title release_date  video_release_date  \\\n",
       "0         1   Toy Story (1995)  01-Jan-1995                 NaN   \n",
       "1         2   GoldenEye (1995)  01-Jan-1995                 NaN   \n",
       "2         3  Four Rooms (1995)  01-Jan-1995                 NaN   \n",
       "3         4  Get Shorty (1995)  01-Jan-1995                 NaN   \n",
       "4         5     Copycat (1995)  01-Jan-1995                 NaN   \n",
       "\n",
       "                                            imdb_url  unknown  Action  \\\n",
       "0  http://us.imdb.com/M/title-exact?Toy%20Story%2...        0       0   \n",
       "1  http://us.imdb.com/M/title-exact?GoldenEye%20(...        0       1   \n",
       "2  http://us.imdb.com/M/title-exact?Four%20Rooms%...        0       0   \n",
       "3  http://us.imdb.com/M/title-exact?Get%20Shorty%...        0       1   \n",
       "4  http://us.imdb.com/M/title-exact?Copycat%20(1995)        0       0   \n",
       "\n",
       "   Adventure  Animation  Children's  ...  Jared Harris  Jonathan Rhys Meyers  \\\n",
       "0          0          1           1  ...             0                     0   \n",
       "1          1          0           0  ...             0                     0   \n",
       "2          0          0           0  ...             0                     0   \n",
       "3          0          0           0  ...             0                     0   \n",
       "4          0          0           0  ...             0                     0   \n",
       "\n",
       "   Julie T. Wallace  Thomas Schlamme  Werner Herzog  Vittorio Mezzogiorno  \\\n",
       "0                 0                0              0                     0   \n",
       "1                 0                0              0                     0   \n",
       "2                 0                0              0                     0   \n",
       "3                 0                0              0                     0   \n",
       "4                 0                0              0                     0   \n",
       "\n",
       "   Stefan Glowacz  Mathilda May  Al Waxman  Gunilla Karlzen  \n",
       "0               0             0          0                0  \n",
       "1               0             0          0                0  \n",
       "2               0             0          0                0  \n",
       "3               0             0          0                0  \n",
       "4               0             0          0                0  \n",
       "\n",
       "[5 rows x 2549 columns]"
      ]
     },
     "execution_count": 4,
     "metadata": {},
     "output_type": "execute_result"
    }
   ],
   "source": [
    "# Movie\n",
    "movie_columns = ['movie_id', 'title', 'release_date', 'video_release_date', 'imdb_url']\n",
    "movies_df = pd.read_csv(f'{dataset_with_credit}/movies_with_credits.csv', sep=',',\n",
    "                     encoding='latin-1')\n",
    "movie_columns = ['movie_id', 'title', 'release_date', 'video_release_date', 'imdb_url']\n",
    "# movies_df = pd.read_csv(f'{dataset_Diretory}/u.item', sep='|', names=movie_columns+genre_columns,\n",
    "#                      encoding='latin-1')\n",
    "\n",
    "movies_df.head()"
   ]
  },
  {
   "cell_type": "markdown",
   "metadata": {},
   "source": [
    "### Loading ratings dataset"
   ]
  },
  {
   "cell_type": "code",
   "execution_count": 5,
   "metadata": {},
   "outputs": [
    {
     "data": {
      "text/html": [
       "<div>\n",
       "<style scoped>\n",
       "    .dataframe tbody tr th:only-of-type {\n",
       "        vertical-align: middle;\n",
       "    }\n",
       "\n",
       "    .dataframe tbody tr th {\n",
       "        vertical-align: top;\n",
       "    }\n",
       "\n",
       "    .dataframe thead th {\n",
       "        text-align: right;\n",
       "    }\n",
       "</style>\n",
       "<table border=\"1\" class=\"dataframe\">\n",
       "  <thead>\n",
       "    <tr style=\"text-align: right;\">\n",
       "      <th></th>\n",
       "      <th>user_id</th>\n",
       "      <th>movie_id</th>\n",
       "      <th>rating</th>\n",
       "    </tr>\n",
       "  </thead>\n",
       "  <tbody>\n",
       "    <tr>\n",
       "      <th>0</th>\n",
       "      <td>196</td>\n",
       "      <td>242</td>\n",
       "      <td>3</td>\n",
       "    </tr>\n",
       "    <tr>\n",
       "      <th>1</th>\n",
       "      <td>186</td>\n",
       "      <td>302</td>\n",
       "      <td>3</td>\n",
       "    </tr>\n",
       "  </tbody>\n",
       "</table>\n",
       "</div>"
      ],
      "text/plain": [
       "   user_id  movie_id  rating\n",
       "0      196       242       3\n",
       "1      186       302       3"
      ]
     },
     "execution_count": 5,
     "metadata": {},
     "output_type": "execute_result"
    }
   ],
   "source": [
    "#Ratings\n",
    "ratings_columns = ['user_id', 'movie_id', 'rating', 'unix_timestamp']\n",
    "ratings_df = pd.read_csv(f'{dataset_Diretory}/u.data', sep='\\t', names=ratings_columns)\n",
    "ratings_df.drop( \"unix_timestamp\", inplace = True, axis = 1 ) \n",
    "ratings_df.head(2)"
   ]
  },
  {
   "cell_type": "markdown",
   "metadata": {},
   "source": [
    "### Remove test data from ratings dataframe\n"
   ]
  },
  {
   "cell_type": "code",
   "execution_count": 6,
   "metadata": {},
   "outputs": [
    {
     "name": "stderr",
     "output_type": "stream",
     "text": [
      "C:\\Users\\CYTech Student\\AppData\\Local\\Temp\\ipykernel_3304\\1229437901.py:2: DeprecationWarning: DataFrameGroupBy.apply operated on the grouping columns. This behavior is deprecated, and in a future version of pandas the grouping columns will be excluded from the operation. Either pass `include_groups=False` to exclude the groupings or explicitly select the grouping columns after groupby to silence this warning.\n",
      "  test_ratings=ratings_df.groupby('user_id', group_keys=False).apply(lambda x: x.sample(n=2, random_state=42))\n"
     ]
    }
   ],
   "source": [
    "# Group by user_id and take 2 random samples per user\n",
    "test_ratings=ratings_df.groupby('user_id', group_keys=False).apply(lambda x: x.sample(n=2, random_state=42))\n",
    "\n",
    "# Drop those sampled rows from the original dataframe\n",
    "remaining_df = ratings_df.drop(test_ratings.index)\n",
    "\n",
    "# Copy the dataframe into ratings_df\n",
    "ratings_df=remaining_df.copy()"
   ]
  },
  {
   "cell_type": "markdown",
   "metadata": {},
   "source": [
    "# 2.content-based approach"
   ]
  },
  {
   "cell_type": "markdown",
   "metadata": {},
   "source": [
    "### Making user profiles \n",
    "At this stage we are making the profiles to understand user's taste in movies.\n",
    "In order to do that we are multiplying the movie features with the rating user has provided and \n",
    "summing up all the features for each user to get a score."
   ]
  },
  {
   "cell_type": "code",
   "execution_count": 7,
   "metadata": {},
   "outputs": [
    {
     "data": {
      "text/html": [
       "<div>\n",
       "<style scoped>\n",
       "    .dataframe tbody tr th:only-of-type {\n",
       "        vertical-align: middle;\n",
       "    }\n",
       "\n",
       "    .dataframe tbody tr th {\n",
       "        vertical-align: top;\n",
       "    }\n",
       "\n",
       "    .dataframe thead th {\n",
       "        text-align: right;\n",
       "    }\n",
       "</style>\n",
       "<table border=\"1\" class=\"dataframe\">\n",
       "  <thead>\n",
       "    <tr style=\"text-align: right;\">\n",
       "      <th></th>\n",
       "      <th>user_id</th>\n",
       "      <th>unknown</th>\n",
       "      <th>Action</th>\n",
       "      <th>Adventure</th>\n",
       "      <th>Animation</th>\n",
       "      <th>Children's</th>\n",
       "      <th>Comedy</th>\n",
       "      <th>Crime</th>\n",
       "      <th>Documentary</th>\n",
       "      <th>Drama</th>\n",
       "      <th>...</th>\n",
       "      <th>Jared Harris</th>\n",
       "      <th>Jonathan Rhys Meyers</th>\n",
       "      <th>Julie T. Wallace</th>\n",
       "      <th>Thomas Schlamme</th>\n",
       "      <th>Werner Herzog</th>\n",
       "      <th>Vittorio Mezzogiorno</th>\n",
       "      <th>Stefan Glowacz</th>\n",
       "      <th>Mathilda May</th>\n",
       "      <th>Al Waxman</th>\n",
       "      <th>Gunilla Karlzen</th>\n",
       "    </tr>\n",
       "  </thead>\n",
       "  <tbody>\n",
       "    <tr>\n",
       "      <th>0</th>\n",
       "      <td>1</td>\n",
       "      <td>4</td>\n",
       "      <td>246</td>\n",
       "      <td>123</td>\n",
       "      <td>40</td>\n",
       "      <td>55</td>\n",
       "      <td>316</td>\n",
       "      <td>82</td>\n",
       "      <td>24</td>\n",
       "      <td>417</td>\n",
       "      <td>...</td>\n",
       "      <td>0</td>\n",
       "      <td>0</td>\n",
       "      <td>0</td>\n",
       "      <td>0</td>\n",
       "      <td>0</td>\n",
       "      <td>0</td>\n",
       "      <td>0</td>\n",
       "      <td>0</td>\n",
       "      <td>0</td>\n",
       "      <td>0</td>\n",
       "    </tr>\n",
       "    <tr>\n",
       "      <th>1</th>\n",
       "      <td>2</td>\n",
       "      <td>0</td>\n",
       "      <td>38</td>\n",
       "      <td>13</td>\n",
       "      <td>4</td>\n",
       "      <td>12</td>\n",
       "      <td>61</td>\n",
       "      <td>29</td>\n",
       "      <td>0</td>\n",
       "      <td>126</td>\n",
       "      <td>...</td>\n",
       "      <td>0</td>\n",
       "      <td>0</td>\n",
       "      <td>0</td>\n",
       "      <td>0</td>\n",
       "      <td>0</td>\n",
       "      <td>0</td>\n",
       "      <td>0</td>\n",
       "      <td>0</td>\n",
       "      <td>0</td>\n",
       "      <td>0</td>\n",
       "    </tr>\n",
       "    <tr>\n",
       "      <th>2</th>\n",
       "      <td>3</td>\n",
       "      <td>0</td>\n",
       "      <td>39</td>\n",
       "      <td>14</td>\n",
       "      <td>0</td>\n",
       "      <td>0</td>\n",
       "      <td>26</td>\n",
       "      <td>30</td>\n",
       "      <td>5</td>\n",
       "      <td>57</td>\n",
       "      <td>...</td>\n",
       "      <td>0</td>\n",
       "      <td>0</td>\n",
       "      <td>0</td>\n",
       "      <td>0</td>\n",
       "      <td>0</td>\n",
       "      <td>0</td>\n",
       "      <td>0</td>\n",
       "      <td>0</td>\n",
       "      <td>0</td>\n",
       "      <td>0</td>\n",
       "    </tr>\n",
       "    <tr>\n",
       "      <th>3</th>\n",
       "      <td>4</td>\n",
       "      <td>0</td>\n",
       "      <td>26</td>\n",
       "      <td>9</td>\n",
       "      <td>0</td>\n",
       "      <td>0</td>\n",
       "      <td>20</td>\n",
       "      <td>15</td>\n",
       "      <td>5</td>\n",
       "      <td>27</td>\n",
       "      <td>...</td>\n",
       "      <td>0</td>\n",
       "      <td>0</td>\n",
       "      <td>0</td>\n",
       "      <td>0</td>\n",
       "      <td>0</td>\n",
       "      <td>0</td>\n",
       "      <td>0</td>\n",
       "      <td>0</td>\n",
       "      <td>0</td>\n",
       "      <td>0</td>\n",
       "    </tr>\n",
       "    <tr>\n",
       "      <th>4</th>\n",
       "      <td>5</td>\n",
       "      <td>4</td>\n",
       "      <td>172</td>\n",
       "      <td>107</td>\n",
       "      <td>53</td>\n",
       "      <td>71</td>\n",
       "      <td>243</td>\n",
       "      <td>35</td>\n",
       "      <td>0</td>\n",
       "      <td>72</td>\n",
       "      <td>...</td>\n",
       "      <td>0</td>\n",
       "      <td>0</td>\n",
       "      <td>0</td>\n",
       "      <td>0</td>\n",
       "      <td>0</td>\n",
       "      <td>0</td>\n",
       "      <td>0</td>\n",
       "      <td>0</td>\n",
       "      <td>0</td>\n",
       "      <td>0</td>\n",
       "    </tr>\n",
       "  </tbody>\n",
       "</table>\n",
       "<p>5 rows × 2545 columns</p>\n",
       "</div>"
      ],
      "text/plain": [
       "   user_id  unknown  Action  Adventure  Animation  Children's  Comedy  Crime  \\\n",
       "0        1        4     246        123         40          55     316     82   \n",
       "1        2        0      38         13          4          12      61     29   \n",
       "2        3        0      39         14          0           0      26     30   \n",
       "3        4        0      26          9          0           0      20     15   \n",
       "4        5        4     172        107         53          71     243     35   \n",
       "\n",
       "   Documentary  Drama  ...  Jared Harris  Jonathan Rhys Meyers  \\\n",
       "0           24    417  ...             0                     0   \n",
       "1            0    126  ...             0                     0   \n",
       "2            5     57  ...             0                     0   \n",
       "3            5     27  ...             0                     0   \n",
       "4            0     72  ...             0                     0   \n",
       "\n",
       "   Julie T. Wallace  Thomas Schlamme  Werner Herzog  Vittorio Mezzogiorno  \\\n",
       "0                 0                0              0                     0   \n",
       "1                 0                0              0                     0   \n",
       "2                 0                0              0                     0   \n",
       "3                 0                0              0                     0   \n",
       "4                 0                0              0                     0   \n",
       "\n",
       "   Stefan Glowacz  Mathilda May  Al Waxman  Gunilla Karlzen  \n",
       "0               0             0          0                0  \n",
       "1               0             0          0                0  \n",
       "2               0             0          0                0  \n",
       "3               0             0          0                0  \n",
       "4               0             0          0                0  \n",
       "\n",
       "[5 rows x 2545 columns]"
      ]
     },
     "execution_count": 7,
     "metadata": {},
     "output_type": "execute_result"
    }
   ],
   "source": [
    "# Step 1: Merge the ratings and movies dataframes on 'movie_id'\n",
    "merged_df = pd.merge(ratings_df, movies_df, on='movie_id')\n",
    "\n",
    "# Step 2: Identify the genre & artists columns (columns from index 5 onwards in movies_df)\n",
    "genre_and_artists_cols = movies_df.columns[5:]\n",
    "\n",
    "# Multiply each genre column by the 'rating' to get weighted genres\n",
    "merged_df[genre_and_artists_cols] = merged_df[genre_and_artists_cols].mul(merged_df['rating'], axis=0)\n",
    "\n",
    "# Step 3: Group by 'user_id' and sum the genre columns\n",
    "user_genre_scores = merged_df.groupby('user_id')[genre_and_artists_cols].sum().reset_index()\n",
    "\n",
    "# Resulting dataset\n",
    "user_genre_scores.head()\n"
   ]
  },
  {
   "cell_type": "code",
   "execution_count": 8,
   "metadata": {},
   "outputs": [],
   "source": [
    "# normalize data \n",
    "from os import system\n",
    "import warnings\n",
    "\n",
    "\n",
    "def normalize_rows_vectorized(df: pd.DataFrame) -> pd.DataFrame:\n",
    "    df_normalized = df.copy()\n",
    "    numeric_cols = df_normalized.columns[1:]\n",
    "    df_normalized[numeric_cols] = df_normalized[numeric_cols].apply(pd.to_numeric, errors='coerce').astype(float)\n",
    "\n",
    "    # Normalize columns 1–19\n",
    "    part1 = df_normalized.iloc[:, 1:20]\n",
    "    max1 = part1.max(axis=1).replace(0, np.nan)\n",
    "    df_normalized.iloc[:, 1:20] = part1.div(max1, axis=0)\n",
    "\n",
    "    # Normalize columns 20–end\n",
    "    part2 = df_normalized.iloc[:, 20:]\n",
    "    if not part2.empty:\n",
    "        max2 = part2.max(axis=1).replace(0, np.nan)\n",
    "        df_normalized.iloc[:, 20:] = part2.div(max2, axis=0)\n",
    "\n",
    "    return df_normalized\n",
    "\n",
    "user_genre_scores = normalize_rows_vectorized(user_genre_scores)"
   ]
  },
  {
   "cell_type": "code",
   "execution_count": 9,
   "metadata": {},
   "outputs": [],
   "source": [
    "user_genre_scores.to_csv(\"user_genre_scores\",index=False)"
   ]
  },
  {
   "cell_type": "code",
   "execution_count": 10,
   "metadata": {},
   "outputs": [
    {
     "name": "stdout",
     "output_type": "stream",
     "text": [
      "Rated Movies: 270\n",
      "Unrated Movies: 1412\n"
     ]
    }
   ],
   "source": [
    "def get_unrated_movies(user_id, movies_df, ratings_df):\n",
    "    \n",
    "    # Get all unique movie IDs from the movies dataset\n",
    "    all_movies = movies_df['movie_id'].unique()\n",
    "    \n",
    "    # Get movies rated by the specific user\n",
    "    user_rated = ratings_df.loc[ratings_df['user_id'] == user_id, 'movie_id'].unique()\n",
    "    \n",
    "    # Find movies not rated by the user using set difference\n",
    "    unrated_movies = np.setdiff1d(all_movies, user_rated)\n",
    "    \n",
    "    return unrated_movies\n",
    "\n",
    "# Example: Get movies not rated by user_id = 1\n",
    "unrated_movies = get_unrated_movies(user_id=1, movies_df=movies_df, ratings_df=ratings_df)\n",
    "print(\"Rated Movies:\",len(movies_df)-len(unrated_movies))\n",
    "print(\"Unrated Movies:\", len(unrated_movies))"
   ]
  },
  {
   "cell_type": "code",
   "execution_count": 11,
   "metadata": {},
   "outputs": [
    {
     "data": {
      "text/plain": [
       "nan"
      ]
     },
     "execution_count": 11,
     "metadata": {},
     "output_type": "execute_result"
    }
   ],
   "source": [
    "mod_mov=movies_df.drop([\"video_release_date\",\"release_date\",\"imdb_url\",\"release_date\",\"movie_id\",\"title\"],axis=1,inplace=False)\n",
    "mov_matrix=mod_mov.values\n",
    "\n",
    "mod_user=user_genre_scores.drop([\"user_id\"],axis=1,inplace=False)\n",
    "user_matrix=mod_user.values\n",
    "\n",
    "score = np.dot(mov_matrix[5], user_matrix[1])\n",
    "score"
   ]
  },
  {
   "cell_type": "code",
   "execution_count": 12,
   "metadata": {},
   "outputs": [
    {
     "data": {
      "text/plain": [
       "numpy.ndarray"
      ]
     },
     "execution_count": 12,
     "metadata": {},
     "output_type": "execute_result"
    }
   ],
   "source": [
    "type(mov_matrix)"
   ]
  },
  {
   "cell_type": "markdown",
   "metadata": {},
   "source": [
    "### Testing to come up with top 10 recommendation for a specific user"
   ]
  },
  {
   "cell_type": "code",
   "execution_count": 13,
   "metadata": {},
   "outputs": [],
   "source": [
    "def recommend_top_n_content(user_id, mov_matrix, user_matrix, movies_df, top_n=10):\n",
    "    \"\"\"\n",
    "    Recommend top-N movies for a given user based on dot product scores.\n",
    "    \n",
    "    Parameters:\n",
    "        user_id (int): The target user index.\n",
    "        mov_matrix (np.ndarray): Movie feature matrix (e.g., item profiles).\n",
    "        user_matrix (np.ndarray): User-item rating matrix.\n",
    "        movies_df (DataFrame): Original movies DataFrame with metadata.\n",
    "        top_n (int): Number of recommendations to return.\n",
    "    \n",
    "    Returns:\n",
    "        DataFrame: Top-N recommended movies with prediction scores.\n",
    "    \"\"\"\n",
    "    user_id = user_id - 1\n",
    "    # Compute scores for all movies for the target user\n",
    "    scores = np.dot(mov_matrix, user_matrix[user_id])\n",
    "    \n",
    "    # Get indices of top-N scores\n",
    "    top_indices = np.argsort(scores)[-top_n:][::-1]\n",
    "    top_scores = scores[top_indices]\n",
    "    \n",
    "    # Get corresponding movie IDs from movies_df\n",
    "    top_movie_ids = movies_df.iloc[top_indices]['movie_id'].values\n",
    "\n",
    "    # Return as list of (movie_id, prediction_score)\n",
    "    return list(zip(top_movie_ids, top_scores))"
   ]
  },
  {
   "cell_type": "code",
   "execution_count": 14,
   "metadata": {},
   "outputs": [
    {
     "data": {
      "text/plain": [
       "[(1682, nan),\n",
       " (578, nan),\n",
       " (554, nan),\n",
       " (555, nan),\n",
       " (556, nan),\n",
       " (557, nan),\n",
       " (558, nan),\n",
       " (559, nan),\n",
       " (560, nan),\n",
       " (561, nan)]"
      ]
     },
     "execution_count": 14,
     "metadata": {},
     "output_type": "execute_result"
    }
   ],
   "source": [
    "recommend_top_n_content(\n",
    "    user_id=1,\n",
    "    mov_matrix=mov_matrix,         # NumPy array\n",
    "    user_matrix=user_matrix,       # NumPy array\n",
    "    movies_df=movies_df,           # DataFrame with movie metadata\n",
    "    top_n=10\n",
    ")\n",
    "\n",
    "\n"
   ]
  },
  {
   "cell_type": "markdown",
   "metadata": {},
   "source": [
    "# 3.Collaborative Filtering"
   ]
  },
  {
   "cell_type": "markdown",
   "metadata": {},
   "source": [
    "## 3.1 Item-Item Approach"
   ]
  },
  {
   "cell_type": "markdown",
   "metadata": {},
   "source": [
    "### Make items_profile:"
   ]
  },
  {
   "cell_type": "markdown",
   "metadata": {},
   "source": [
    "A matrix where each row represents a movie in terms of users ratings."
   ]
  },
  {
   "cell_type": "code",
   "execution_count": 15,
   "metadata": {},
   "outputs": [
    {
     "name": "stdout",
     "output_type": "stream",
     "text": [
      "User-Item Matrix:\n",
      "user_id   1    2    3    4    5    6    7    8    9    10   ...  934  935  \\\n",
      "movie_id                                                    ...             \n",
      "1         5.0  4.0  NaN  NaN  4.0  4.0  NaN  NaN  NaN  4.0  ...  2.0  3.0   \n",
      "2         3.0  NaN  NaN  NaN  3.0  NaN  NaN  NaN  NaN  NaN  ...  4.0  NaN   \n",
      "3         4.0  NaN  NaN  NaN  NaN  NaN  NaN  NaN  NaN  NaN  ...  NaN  NaN   \n",
      "4         3.0  NaN  NaN  NaN  NaN  NaN  5.0  NaN  NaN  4.0  ...  5.0  NaN   \n",
      "5         3.0  NaN  NaN  NaN  NaN  NaN  NaN  NaN  NaN  NaN  ...  NaN  NaN   \n",
      "...       ...  ...  ...  ...  ...  ...  ...  ...  ...  ...  ...  ...  ...   \n",
      "1678      NaN  NaN  NaN  NaN  NaN  NaN  NaN  NaN  NaN  NaN  ...  NaN  NaN   \n",
      "1679      NaN  NaN  NaN  NaN  NaN  NaN  NaN  NaN  NaN  NaN  ...  NaN  NaN   \n",
      "1680      NaN  NaN  NaN  NaN  NaN  NaN  NaN  NaN  NaN  NaN  ...  NaN  NaN   \n",
      "1681      NaN  NaN  NaN  NaN  NaN  NaN  NaN  NaN  NaN  NaN  ...  NaN  NaN   \n",
      "1682      NaN  NaN  NaN  NaN  NaN  NaN  NaN  NaN  NaN  NaN  ...  NaN  NaN   \n",
      "\n",
      "user_id   936  937  938  939  940  941  942  943  \n",
      "movie_id                                          \n",
      "1         4.0  NaN  4.0  NaN  NaN  5.0  NaN  NaN  \n",
      "2         NaN  NaN  NaN  NaN  NaN  NaN  NaN  5.0  \n",
      "3         4.0  NaN  NaN  NaN  NaN  NaN  NaN  NaN  \n",
      "4         NaN  NaN  NaN  NaN  2.0  NaN  NaN  NaN  \n",
      "5         NaN  NaN  NaN  NaN  NaN  NaN  NaN  NaN  \n",
      "...       ...  ...  ...  ...  ...  ...  ...  ...  \n",
      "1678      NaN  NaN  NaN  NaN  NaN  NaN  NaN  NaN  \n",
      "1679      NaN  NaN  NaN  NaN  NaN  NaN  NaN  NaN  \n",
      "1680      NaN  NaN  NaN  NaN  NaN  NaN  NaN  NaN  \n",
      "1681      NaN  NaN  NaN  NaN  NaN  NaN  NaN  NaN  \n",
      "1682      NaN  NaN  NaN  NaN  NaN  NaN  NaN  NaN  \n",
      "\n",
      "[1681 rows x 943 columns]\n"
     ]
    }
   ],
   "source": [
    "user_item_matrix = ratings_df.pivot(index='movie_id', columns='user_id', values='rating')\n",
    "print(\"User-Item Matrix:\")\n",
    "print(user_item_matrix)"
   ]
  },
  {
   "cell_type": "code",
   "execution_count": 16,
   "metadata": {},
   "outputs": [
    {
     "data": {
      "text/plain": [
       "movie_id\n",
       "1       5.0\n",
       "2       3.0\n",
       "3       4.0\n",
       "4       3.0\n",
       "5       3.0\n",
       "       ... \n",
       "1678    NaN\n",
       "1679    NaN\n",
       "1680    NaN\n",
       "1681    NaN\n",
       "1682    NaN\n",
       "Name: 1, Length: 1681, dtype: float64"
      ]
     },
     "execution_count": 16,
     "metadata": {},
     "output_type": "execute_result"
    }
   ],
   "source": [
    "#to call a movie use .loc\n",
    "user_item_matrix.loc[1]\n",
    "\n",
    "#to call a user use \n",
    "user_item_matrix[1]"
   ]
  },
  {
   "cell_type": "markdown",
   "metadata": {},
   "source": [
    "### Similarity Matrix:"
   ]
  },
  {
   "cell_type": "markdown",
   "metadata": {},
   "source": [
    "To calculate the similarity between two movies, we will use cosine similarity."
   ]
  },
  {
   "cell_type": "code",
   "execution_count": 17,
   "metadata": {},
   "outputs": [],
   "source": [
    "\n",
    "def cosine_similarity(vec1, vec2):\n",
    "    # Handle NaNs by treating them as zeros or ignoring them\n",
    "    mask = ~np.isnan(vec1) & ~np.isnan(vec2)\n",
    "    if np.sum(mask) == 0:\n",
    "        return 0  # no overlap in ratings\n",
    "    \n",
    "    v1 = vec1[mask]\n",
    "    v2 = vec2[mask]\n",
    "    numerator = np.dot(v1, v2)\n",
    "    denominator = np.linalg.norm(v1) * np.linalg.norm(v2)\n",
    "    if denominator == 0:\n",
    "        return 0\n",
    "    return numerator / denominator\n"
   ]
  },
  {
   "cell_type": "code",
   "execution_count": 18,
   "metadata": {},
   "outputs": [
    {
     "data": {
      "text/plain": [
       "0.9488806385308644"
      ]
     },
     "execution_count": 18,
     "metadata": {},
     "output_type": "execute_result"
    }
   ],
   "source": [
    "cosine_similarity(user_item_matrix.loc[1].values, user_item_matrix.loc[2].values)"
   ]
  },
  {
   "cell_type": "markdown",
   "metadata": {},
   "source": [
    "We want to calculate the similarity  between each movie and every other movie, the similarity Matrix."
   ]
  },
  {
   "cell_type": "code",
   "execution_count": 19,
   "metadata": {},
   "outputs": [
    {
     "name": "stdout",
     "output_type": "stream",
     "text": [
      "          1         2         3         4         5         6         7     \\\n",
      "1     1.000000  0.948881  0.915048  0.942102  0.960450  0.955119  0.950152   \n",
      "2     0.948881  1.000000  0.911985  0.939195  0.942688  0.955090  0.943322   \n",
      "3     0.915048  0.911985  1.000000  0.898737  0.942472  0.968364  0.920467   \n",
      "4     0.942102  0.939195  0.898737  1.000000  0.891994  0.919037  0.947734   \n",
      "5     0.960450  0.942688  0.942472  0.891994  1.000000  0.996241  0.935982   \n",
      "...        ...       ...       ...       ...       ...       ...       ...   \n",
      "1678  0.000000  0.000000  0.000000  0.000000  0.000000  0.000000  0.000000   \n",
      "1679  0.000000  0.000000  0.000000  0.000000  0.000000  0.000000  0.000000   \n",
      "1680  0.000000  0.000000  0.000000  0.000000  0.000000  0.000000  0.000000   \n",
      "1681  1.000000  1.000000  0.000000  1.000000  0.000000  0.000000  1.000000   \n",
      "1682  1.000000  1.000000  1.000000  1.000000  1.000000  0.000000  1.000000   \n",
      "\n",
      "          8         9         10    ...  1673  1674  1675  1676  1677  1678  \\\n",
      "1     0.960134  0.937197  0.947020  ...   1.0   0.0   0.0   0.0   1.0   0.0   \n",
      "2     0.952186  0.914693  0.943967  ...   0.0   0.0   0.0   0.0   0.0   0.0   \n",
      "3     0.880473  0.905344  0.926942  ...   0.0   0.0   0.0   0.0   1.0   0.0   \n",
      "4     0.953031  0.949449  0.958274  ...   0.0   0.0   1.0   1.0   1.0   0.0   \n",
      "5     0.945235  0.934037  0.904194  ...   0.0   0.0   0.0   0.0   0.0   0.0   \n",
      "...        ...       ...       ...  ...   ...   ...   ...   ...   ...   ...   \n",
      "1678  0.000000  0.000000  0.000000  ...   0.0   0.0   0.0   0.0   0.0   1.0   \n",
      "1679  0.000000  0.000000  0.000000  ...   0.0   0.0   0.0   0.0   0.0   1.0   \n",
      "1680  0.000000  0.000000  0.000000  ...   0.0   0.0   0.0   0.0   0.0   1.0   \n",
      "1681  1.000000  1.000000  0.000000  ...   0.0   0.0   0.0   0.0   0.0   0.0   \n",
      "1682  0.000000  1.000000  0.000000  ...   0.0   0.0   0.0   0.0   0.0   0.0   \n",
      "\n",
      "      1679  1680  1681  1682  \n",
      "1      0.0   0.0   1.0   1.0  \n",
      "2      0.0   0.0   1.0   1.0  \n",
      "3      0.0   0.0   0.0   1.0  \n",
      "4      0.0   0.0   1.0   1.0  \n",
      "5      0.0   0.0   0.0   1.0  \n",
      "...    ...   ...   ...   ...  \n",
      "1678   1.0   1.0   0.0   0.0  \n",
      "1679   1.0   1.0   0.0   0.0  \n",
      "1680   1.0   1.0   0.0   0.0  \n",
      "1681   0.0   0.0   1.0   0.0  \n",
      "1682   0.0   0.0   0.0   1.0  \n",
      "\n",
      "[1681 rows x 1681 columns]\n"
     ]
    }
   ],
   "source": [
    "\n",
    "# Your user_item_matrix: rows = movie_id, columns = user_id\n",
    "# Make sure your index is movie_id and columns are user_id\n",
    "movies = user_item_matrix.index.tolist()\n",
    "\n",
    "# Initialize empty DataFrame to store similarities\n",
    "similarity_matrix = pd.DataFrame(index=movies, columns=movies, dtype=float)\n",
    "\n",
    "for i, movie_i in enumerate(movies):\n",
    "    vec_i = user_item_matrix.loc[movie_i].values\n",
    "    for j, movie_j in enumerate(movies):\n",
    "        if j < i:\n",
    "            # Similarity matrix is symmetric, copy value\n",
    "            similarity_matrix.at[movie_i, movie_j] = similarity_matrix.at[movie_j, movie_i]\n",
    "        else:\n",
    "            vec_j = user_item_matrix.loc[movie_j].values\n",
    "            sim = cosine_similarity(vec_i, vec_j)\n",
    "            similarity_matrix.at[movie_i, movie_j] = sim\n",
    "\n",
    "print(similarity_matrix)\n"
   ]
  },
  {
   "cell_type": "markdown",
   "metadata": {},
   "source": [
    "### Predict ratings:"
   ]
  },
  {
   "cell_type": "markdown",
   "metadata": {},
   "source": [
    "We’ll infer a missing rating of a user for an item by taking the normalized weighted sum of all the other ratings that user has given to different items. However, we will use only the top k most similar movies. The principle behind this is that the rating should be influenced primarily by the closest, most similar items."
   ]
  },
  {
   "cell_type": "code",
   "execution_count": 20,
   "metadata": {},
   "outputs": [],
   "source": [
    "def predict_rating(user_id, movie_id, user_item_matrix, similarity_matrix, k=5): \n",
    "    if movie_id not in user_item_matrix.index:\n",
    "        return np.nan\n",
    "\n",
    "    sims = similarity_matrix.loc[movie_id]\n",
    "    user_ratings = user_item_matrix[user_id]\n",
    "\n",
    "    # Drop target movie rating if exists\n",
    "    user_ratings = user_ratings.drop(movie_id, errors='ignore')\n",
    "\n",
    "    # Filter non-NaN pairs\n",
    "    mask = ~np.isnan(sims) & ~np.isnan(user_ratings)\n",
    "    sims = sims[mask]\n",
    "    user_ratings = user_ratings[mask]\n",
    "\n",
    "    # Select top-k most similar movies\n",
    "    top_k = sims.abs().sort_values(ascending=False).head(k)\n",
    "    user_ratings = user_ratings.loc[top_k.index]\n",
    "    sims = sims.loc[top_k.index]\n",
    "\n",
    "    numerator = np.sum(sims * user_ratings)\n",
    "    denominator = np.sum(np.abs(sims))\n",
    "\n",
    "    if denominator == 0:\n",
    "        # fallback: user mean or global mean (choose what fits your data)\n",
    "        return user_ratings.mean()\n",
    "\n",
    "    return numerator / denominator\n"
   ]
  },
  {
   "cell_type": "code",
   "execution_count": 21,
   "metadata": {},
   "outputs": [
    {
     "data": {
      "text/plain": [
       "4.102745634508049"
      ]
     },
     "execution_count": 21,
     "metadata": {},
     "output_type": "execute_result"
    }
   ],
   "source": [
    "predict_rating(user_id=4, movie_id=1, user_item_matrix=user_item_matrix, similarity_matrix=similarity_matrix, k=10)"
   ]
  },
  {
   "cell_type": "markdown",
   "metadata": {},
   "source": [
    "### Recommend the top 10 movies"
   ]
  },
  {
   "cell_type": "code",
   "execution_count": 22,
   "metadata": {},
   "outputs": [],
   "source": [
    "def recommend_N ( user_id, user_item_matrix, similarity_matrix, N=10, k=5):\n",
    "    if user_id not in user_item_matrix.columns:\n",
    "        return []\n",
    "\n",
    "    # Get all movies rated by the user\n",
    "    rated_movies = user_item_matrix[user_id].dropna().index.tolist()\n",
    "    \n",
    "    # Initialize a list to store predictions\n",
    "    predictions = []\n",
    "\n",
    "    for movie_id in user_item_matrix.index:\n",
    "        if movie_id not in rated_movies:\n",
    "            predicted_rating = predict_rating(user_id, movie_id, user_item_matrix, similarity_matrix, k)\n",
    "            if not np.isnan(predicted_rating):\n",
    "                predictions.append((movie_id, predicted_rating))\n",
    "\n",
    "    # Sort predictions by rating in descending order and take top N\n",
    "    predictions.sort(key=lambda x: x[1], reverse=True)\n",
    "    \n",
    "    return  predictions[:N]"
   ]
  },
  {
   "cell_type": "code",
   "execution_count": 23,
   "metadata": {},
   "outputs": [
    {
     "data": {
      "text/plain": [
       "[(21, 5.000000000000001),\n",
       " (49, 5.000000000000001),\n",
       " (57, 5.000000000000001),\n",
       " (84, 5.000000000000001),\n",
       " (101, 5.000000000000001),\n",
       " (106, 5.000000000000001),\n",
       " (110, 5.000000000000001),\n",
       " (169, 5.000000000000001),\n",
       " (184, 5.000000000000001),\n",
       " (198, 5.000000000000001)]"
      ]
     },
     "execution_count": 23,
     "metadata": {},
     "output_type": "execute_result"
    }
   ],
   "source": [
    "recommend_N( user_id=4, user_item_matrix=user_item_matrix, similarity_matrix=similarity_matrix, N=10, k=5)\n"
   ]
  },
  {
   "cell_type": "markdown",
   "metadata": {},
   "source": [
    "## 3.1 Item-Item Approach"
   ]
  },
  {
   "cell_type": "markdown",
   "metadata": {},
   "source": [
    "It is the transpose of the items_profile matrix, where each row represents a user based on their reactions."
   ]
  },
  {
   "cell_type": "code",
   "execution_count": 24,
   "metadata": {},
   "outputs": [],
   "source": [
    "user_profile = user_item_matrix.T"
   ]
  },
  {
   "cell_type": "markdown",
   "metadata": {},
   "source": [
    "Similarity Matrix:"
   ]
  },
  {
   "cell_type": "code",
   "execution_count": 25,
   "metadata": {},
   "outputs": [
    {
     "name": "stdout",
     "output_type": "stream",
     "text": [
      "          1         2         3         4         5         6         7    \\\n",
      "1    1.000000  0.957477  0.857075  0.898146  0.931616  0.953331  0.942811   \n",
      "2    0.957477  1.000000  0.935601  0.946544  0.979660  0.956301  0.963967   \n",
      "3    0.857075  0.935601  1.000000  0.919528  1.000000  0.890713  0.879543   \n",
      "4    0.898146  0.946544  0.919528  1.000000  1.000000  0.931108  0.855344   \n",
      "5    0.931616  0.979660  1.000000  1.000000  1.000000  0.933706  0.905738   \n",
      "..        ...       ...       ...       ...       ...       ...       ...   \n",
      "939  0.944993  0.974901  0.993884  1.000000  0.930136  0.922565  0.957014   \n",
      "940  0.944952  0.944038  0.867865  0.961247  0.918769  0.949294  0.940097   \n",
      "941  0.972207  0.940225  0.973223  0.998538  0.975643  0.945658  0.937400   \n",
      "942  0.918030  0.948493  0.897758  0.977106  0.941836  0.960481  0.983202   \n",
      "943  0.929704  0.973154  0.989949  1.000000  0.908721  0.939325  0.930511   \n",
      "\n",
      "          8         9         10   ...       934       935       936  \\\n",
      "1    0.976932  0.976404  0.967975  ...  0.941967  0.871754  0.965889   \n",
      "2    0.958659  0.987805  0.980958  ...  0.947607  0.963031  0.966917   \n",
      "3    0.891056  1.000000  0.902444  ...  0.964901  1.000000  0.896328   \n",
      "4    0.970851  0.000000  0.937425  ...  0.970143  1.000000  0.944227   \n",
      "5    0.939518  0.880919  0.938785  ...  0.918808  0.917854  0.936373   \n",
      "..        ...       ...       ...  ...       ...       ...       ...   \n",
      "939  0.989011  0.000000  0.993822  ...  0.963575  0.962738  0.979916   \n",
      "940  0.958734  0.980666  0.968278  ...  0.936097  0.951365  0.921295   \n",
      "941  0.931134  1.000000  0.986317  ...  0.943701  0.953817  0.974237   \n",
      "942  0.961113  0.992302  0.984505  ...  0.968616  0.948417  0.941054   \n",
      "943  0.947537  0.979800  0.966663  ...  0.938173  0.954926  0.943677   \n",
      "\n",
      "          937       938       939       940       941       942       943  \n",
      "1    0.918126  0.910709  0.944993  0.944952  0.972207  0.918030  0.929704  \n",
      "2    0.965690  0.941092  0.974901  0.944038  0.940225  0.948493  0.973154  \n",
      "3    0.840511  0.872572  0.993884  0.867865  0.973223  0.897758  0.989949  \n",
      "4    0.885438  0.947368  1.000000  0.961247  0.998538  0.977106  1.000000  \n",
      "5    0.965824  0.895525  0.930136  0.918769  0.975643  0.941836  0.908721  \n",
      "..        ...       ...       ...       ...       ...       ...       ...  \n",
      "939  0.946969  0.939566  1.000000  0.991837  0.965729  0.980407  0.951989  \n",
      "940  0.858934  0.918300  0.991837  1.000000  0.960653  0.958008  0.963010  \n",
      "941  0.952969  0.932182  0.965729  0.960653  1.000000  0.982456  0.967762  \n",
      "942  0.994332  0.944244  0.980407  0.958008  0.982456  1.000000  0.975958  \n",
      "943  0.865335  0.942132  0.951989  0.963010  0.967762  0.975958  1.000000  \n",
      "\n",
      "[943 rows x 943 columns]\n"
     ]
    }
   ],
   "source": [
    "# user_item_matrix: rows = user_id, columns = user_id\n",
    "\n",
    "users = user_profile.index.tolist()\n",
    "\n",
    "# Initialize empty DataFrame to store similarities\n",
    "similarity_matrix_users = pd.DataFrame(index=users, columns=users, dtype=float)\n",
    "\n",
    "for i, user_i in enumerate(users):\n",
    "    vec_i = user_profile.loc[user_i].values\n",
    "    for j, user_j in enumerate(users):\n",
    "        if j < i:\n",
    "            # Similarity matrix is symmetric, copy value\n",
    "            similarity_matrix_users.at[user_i, user_j] = similarity_matrix_users.at[user_j, user_i]\n",
    "        else:\n",
    "            vec_j = user_profile.loc[user_j].values\n",
    "            sim = cosine_similarity(vec_i, vec_j)\n",
    "            similarity_matrix_users.at[user_i, user_j] = sim\n",
    "\n",
    "print(similarity_matrix_users)"
   ]
  },
  {
   "cell_type": "markdown",
   "metadata": {},
   "source": [
    "Predict rating : "
   ]
  },
  {
   "cell_type": "code",
   "execution_count": 26,
   "metadata": {},
   "outputs": [],
   "source": [
    "def predict_rating_user(user_id, movie_id, user_profile, similarity_matrix_users, k=5):\n",
    "    \"\"\"\n",
    "    Predict the rating of a user for a movie using user-based CF.\n",
    "    \"\"\"\n",
    "    if movie_id not in user_profile.columns:\n",
    "        return np.nan  # movie unknown\n",
    "\n",
    "    # Similarities of target user to all other users\n",
    "    sims = similarity_matrix_users.loc[user_id]\n",
    "\n",
    "    # Ratings of other users for the target movie\n",
    "    movie_ratings = user_profile[movie_id]\n",
    "\n",
    "    # Filter out users who haven't rated the movie\n",
    "    mask = movie_ratings.notna()\n",
    "    sims = sims[mask]\n",
    "    movie_ratings = movie_ratings[mask]\n",
    "\n",
    "    # Select top-k most similar users\n",
    "    top_k = sims.abs().sort_values(ascending=False).head(k)\n",
    "    movie_ratings = movie_ratings.loc[top_k.index]\n",
    "    sims = sims.loc[top_k.index]\n",
    "\n",
    "    # Weighted average\n",
    "    numerator = np.sum(sims * movie_ratings)\n",
    "    denominator = np.sum(np.abs(sims))\n",
    "\n",
    "    if denominator == 0:\n",
    "        # Fallback: return global mean rating of movie (or user mean)\n",
    "        return movie_ratings.mean()\n",
    "\n",
    "    return numerator / denominator\n"
   ]
  },
  {
   "cell_type": "code",
   "execution_count": 27,
   "metadata": {},
   "outputs": [
    {
     "data": {
      "text/plain": [
       "3.2"
      ]
     },
     "execution_count": 27,
     "metadata": {},
     "output_type": "execute_result"
    }
   ],
   "source": [
    "predict_rating_user(4, 1, user_profile, similarity_matrix_users, k=5)"
   ]
  },
  {
   "cell_type": "markdown",
   "metadata": {},
   "source": [
    "### Recommend the top 10 movies"
   ]
  },
  {
   "cell_type": "code",
   "execution_count": 28,
   "metadata": {},
   "outputs": [],
   "source": [
    "def recommend_top_n_movies_user(user_id, user_profile, similarity_matrix_users, n=10, k=5):\n",
    "    \"\"\"\n",
    "    Recommend top-N movies to a user based on predicted ratings.\n",
    "    \n",
    "    Parameters:\n",
    "    - user_id: target user\n",
    "    - user_profile: DataFrame with users as rows, movies as columns\n",
    "    - similarity_matrix_users: user-user similarity matrix\n",
    "    - n: number of movies to recommend\n",
    "    - k: number of neighbors to use in prediction\n",
    "    \n",
    "    Returns:\n",
    "    - List of (movie_id, predicted_rating), sorted by predicted_rating descending\n",
    "    \"\"\"\n",
    "    # Movies the user has already rated\n",
    "    user_ratings = user_profile.loc[user_id]\n",
    "    rated_movies = user_ratings[user_ratings.notna()].index.tolist()\n",
    "    \n",
    "    # Movies the user hasn't rated\n",
    "    unrated_movies = [movie for movie in user_profile.columns if movie not in rated_movies]\n",
    "    \n",
    "    predictions = []\n",
    "    for movie_id in unrated_movies:\n",
    "        pred_rating = predict_rating_user(user_id, movie_id, user_profile, similarity_matrix_users, k)\n",
    "        predictions.append((movie_id, pred_rating))\n",
    "    \n",
    "    # Sort movies by predicted rating descending\n",
    "    predictions.sort(key=lambda x: x[1], reverse=True)\n",
    "    \n",
    "    # Return top N\n",
    "    return predictions[:n]\n"
   ]
  },
  {
   "cell_type": "code",
   "execution_count": 29,
   "metadata": {},
   "outputs": [
    {
     "data": {
      "text/plain": [
       "[(814, 5.000000000000001),\n",
       " (1293, 5.000000000000001),\n",
       " (1653, 5.000000000000001),\n",
       " (408, 5.0),\n",
       " (498, 5.0),\n",
       " (1122, 5.0),\n",
       " (1201, 5.0),\n",
       " (1467, 5.0),\n",
       " (1500, 5.0),\n",
       " (1599, 5.0)]"
      ]
     },
     "execution_count": 29,
     "metadata": {},
     "output_type": "execute_result"
    }
   ],
   "source": [
    "recommend_top_n_movies_user(4, user_profile, similarity_matrix_users, n=10, k=5)"
   ]
  },
  {
   "cell_type": "markdown",
   "metadata": {},
   "source": [
    "# 4.Evaluating models\n"
   ]
  },
  {
   "cell_type": "code",
   "execution_count": 30,
   "metadata": {},
   "outputs": [],
   "source": [
    "test_set = test_ratings.pivot(index='movie_id', columns='user_id', values='rating')\n"
   ]
  },
  {
   "cell_type": "markdown",
   "metadata": {},
   "source": [
    "## Approach 1 : "
   ]
  },
  {
   "cell_type": "markdown",
   "metadata": {},
   "source": [
    "The first approach: We evaluate whether our system is able to assign a high rating to a movie (i.e., above its average rating) and a low rating to a movie (i.e., below its average rating).\n"
   ]
  },
  {
   "cell_type": "markdown",
   "metadata": {},
   "source": [
    "### 1.content based approach"
   ]
  },
  {
   "cell_type": "code",
   "execution_count": 42,
   "metadata": {},
   "outputs": [],
   "source": [
    "def evaluate_content_based(test_ratings, ratings_df, movies_df, mov_matrix, user_matrix, verbose=False):\n",
    "    \"\"\"\n",
    "    Evaluate the content-based approach on the test set.\n",
    "\n",
    "    Parameters:\n",
    "        test_ratings (DataFrame): Test ratings with columns ['user_id', 'movie_id', 'rating']\n",
    "        ratings_df (DataFrame): Full ratings dataset to compute user averages\n",
    "        movies_df (DataFrame): Movies dataframe to get movie names\n",
    "        mov_matrix (ndarray): Matrix of movie features (num_movies x num_features)\n",
    "        user_matrix (ndarray): Matrix of user profiles (num_users x num_features)\n",
    "        verbose (bool): If True, print detailed output for each example\n",
    "\n",
    "    Returns:\n",
    "        float: Average accuracy (%)\n",
    "    \"\"\"\n",
    "\n",
    "    total_test_cases = len(test_ratings)\n",
    "    hit = 0\n",
    "\n",
    "    print(f\"Total test cases: {total_test_cases}\")\n",
    "\n",
    "    for index, row in test_ratings.iterrows():\n",
    "        user_id = row['user_id']\n",
    "        movie_id = row['movie_id']\n",
    "        user_rating_for_movie = row['rating']\n",
    "\n",
    "        # Get movie name (optional)\n",
    "        movie = movies_df[movies_df['movie_id'] == movie_id].iloc[0]\n",
    "        movie_name = movie['title']\n",
    "\n",
    "        # Compute user average rating\n",
    "        user_average_rating = round(ratings_df[ratings_df['user_id'] == user_id]['rating'].mean(), 3)\n",
    "\n",
    "        # Compute predicted score for the movie\n",
    "        score_for_movie = np.dot(mov_matrix[movie_id - 1], user_matrix[user_id - 1])\n",
    "\n",
    "        # Compute average score for the user (across all movies)\n",
    "        all_scores_for_user = np.dot(mov_matrix, user_matrix[user_id - 1])\n",
    "        average_score_for_user = np.mean(all_scores_for_user)\n",
    "\n",
    "        # Classify actual rating vs average\n",
    "        user_has_rated = \"Below Average\"\n",
    "        if user_rating_for_movie > (user_average_rating - user_average_rating * 0.10):\n",
    "            user_has_rated = \"Above Average\"\n",
    "\n",
    "        # Classify predicted score vs average\n",
    "        score_has_been_given = \"Below Average\"\n",
    "        if score_for_movie > (average_score_for_user - average_score_for_user * 0.10):\n",
    "            score_has_been_given = \"Above Average\"\n",
    "\n",
    "        # Compare\n",
    "        if user_has_rated == score_has_been_given:\n",
    "            hit += 1\n",
    "\n",
    "        # Optional print\n",
    "        if verbose:\n",
    "            print(f\"user id: {user_id}, movie_name: {movie_name}\")\n",
    "            print(f\"User rating: {user_rating_for_movie}, User avg: {user_average_rating}\")\n",
    "            print(f\"Predicted score: {score_for_movie}, Avg score for user: {average_score_for_user}\")\n",
    "            print(f\"user_rated: {user_has_rated}, score_given: {score_has_been_given}\\n\")\n",
    "\n",
    "    # Compute accuracy\n",
    "    average_accuracy = round((hit / total_test_cases) * 100, 2)\n",
    "    print(f\"Average accuracy is: {average_accuracy} % \")\n",
    "\n",
    "    return average_accuracy\n"
   ]
  },
  {
   "cell_type": "code",
   "execution_count": 43,
   "metadata": {},
   "outputs": [
    {
     "name": "stdout",
     "output_type": "stream",
     "text": [
      "Total test cases: 1886\n",
      "Average accuracy is: 50.74 % \n"
     ]
    },
    {
     "data": {
      "text/plain": [
       "50.74"
      ]
     },
     "execution_count": 43,
     "metadata": {},
     "output_type": "execute_result"
    }
   ],
   "source": [
    "evaluate_content_based(test_ratings, ratings_df, movies_df, mov_matrix, user_matrix, verbose=False)"
   ]
  },
  {
   "cell_type": "markdown",
   "metadata": {},
   "source": [
    "### 2. Item_item approach"
   ]
  },
  {
   "cell_type": "code",
   "execution_count": 46,
   "metadata": {},
   "outputs": [],
   "source": [
    "def evaluate_item_based(test_set, user_item_matrix, similarity_matrix, k=5):\n",
    "    hits = 0\n",
    "    \n",
    "    for user_id in test_set.columns.unique():\n",
    "        rated_movies = test_set.index[test_set[user_id].notna()].tolist()\n",
    "        user_average_rating = remaining_df[remaining_df['user_id'] == user_id]['rating'].mean()\n",
    "        for movie_id in rated_movies:\n",
    "            predicted_rating = predict_rating(user_id, movie_id, user_item_matrix, similarity_matrix, k)\n",
    "            actual_rating = test_set.at[movie_id, user_id]\n",
    "            if not np.isnan(predicted_rating) and not np.isnan(actual_rating):\n",
    "                # Check if the predicted rating is above or below the user's average rating\n",
    "                user_has_rated = \"Above Average\" if actual_rating > (user_average_rating - user_average_rating * 0.10) else \"Below Average\"\n",
    "                score_has_been_given = \"Above Average\" if predicted_rating > (user_average_rating - user_average_rating * 0.10) else \"Below Average\"\n",
    "                \n",
    "                if user_has_rated == score_has_been_given:\n",
    "                    hits += 1\n",
    "\n",
    "    accuracy = (hits / (2*len(test_set.columns.unique()))) * 100 if len(test_set.columns.unique()) > 0 else 0\n",
    "    return accuracy"
   ]
  },
  {
   "cell_type": "code",
   "execution_count": 47,
   "metadata": {},
   "outputs": [
    {
     "data": {
      "text/plain": [
       "61.87698833510075"
      ]
     },
     "execution_count": 47,
     "metadata": {},
     "output_type": "execute_result"
    }
   ],
   "source": [
    "evaluate_item_based(test_set, user_item_matrix, similarity_matrix, k=5)"
   ]
  },
  {
   "cell_type": "markdown",
   "metadata": {},
   "source": [
    "## 3- User_user approach"
   ]
  },
  {
   "cell_type": "code",
   "execution_count": 48,
   "metadata": {},
   "outputs": [],
   "source": [
    "def evaluate_user_based(test_set, user_profile, similarity_matrix_users, k=5):\n",
    "    hits = 0\n",
    "    \n",
    "    for user_id in test_set.columns.unique():\n",
    "        rated_movies = test_set.index[test_set[user_id].notna()].tolist()\n",
    "        user_average_rating = user_profile.loc[user_id].mean()\n",
    "        for movie_id in rated_movies:\n",
    "            predicted_rating = predict_rating_user(user_id, movie_id, user_profile, similarity_matrix_users, k)\n",
    "            actual_rating = test_set.at[movie_id, user_id]\n",
    "            if not np.isnan(predicted_rating) and not np.isnan(actual_rating):\n",
    "                # Check if the predicted rating is above or below the user's average rating\n",
    "                user_has_rated = \"Above Average\" if actual_rating > (user_average_rating - user_average_rating * 0.10) else \"Below Average\"\n",
    "                score_has_been_given = \"Above Average\" if predicted_rating > (user_average_rating - user_average_rating * 0.10) else \"Below Average\"\n",
    "                \n",
    "                if user_has_rated == score_has_been_given:\n",
    "                    hits += 1\n",
    "\n",
    "    accuracy = (hits / (2*len(test_set.columns.unique()))) * 100 if len(test_set.columns.unique()) > 0 else 0\n",
    "    return accuracy"
   ]
  },
  {
   "cell_type": "code",
   "execution_count": 49,
   "metadata": {},
   "outputs": [
    {
     "data": {
      "text/plain": [
       "64.95227995758218"
      ]
     },
     "execution_count": 49,
     "metadata": {},
     "output_type": "execute_result"
    }
   ],
   "source": [
    "evaluate_user_based(test_set, user_profile, similarity_matrix_users, k=5)"
   ]
  },
  {
   "cell_type": "markdown",
   "metadata": {},
   "source": [
    "### Second Approach"
   ]
  },
  {
   "cell_type": "markdown",
   "metadata": {},
   "source": [
    "The second approach Evaluate whether the recommender system can suggest a movie that the user has interacted with, regardless of the rating (whether good or bad). This can be considered a good approach, because we assume that if a user has rated a movie, it means they were initially interested in it."
   ]
  },
  {
   "cell_type": "code",
   "execution_count": 36,
   "metadata": {},
   "outputs": [
    {
     "data": {
      "text/plain": [
       "'\"\\ndef evaluate_recommendations(test_set):\\n    hits = 0\\n\\n    for user_id in test_set.columns.unique():\\n        recommendations = recommend_N(user_id, user_item_matrix, similarity_matrix)\\n\\n        # Convert recommendations to a set of movie IDs\\n        recommended_movie_ids = {movie_id for movie_id, _ in recommendations}\\n        \\n        # Get the actual ratings from the test set\\n        actual_ratings = test_ratings[test_ratings[\\'user_id\\'] == user_id][\\'movie_id\\'].values\\n        \\n        # Calculate hits (recommended movies that were actually rated)\\n        hit = len(set(recommended_movie_ids) & set(actual_ratings))\\n\\n        hits += hit\\n    hits = hits / len(test_set.columns.unique()) if len(test_set.columns.unique()) > 0 else 0    \\n    return hits\\n\\n'"
      ]
     },
     "execution_count": 36,
     "metadata": {},
     "output_type": "execute_result"
    }
   ],
   "source": [
    "\"\"\"\"\n",
    "def evaluate_recommendations(test_set):\n",
    "    hits = 0\n",
    "\n",
    "    for user_id in test_set.columns.unique():\n",
    "        recommendations = recommend_N(user_id, user_item_matrix, similarity_matrix)\n",
    "\n",
    "        # Convert recommendations to a set of movie IDs\n",
    "        recommended_movie_ids = {movie_id for movie_id, _ in recommendations}\n",
    "        \n",
    "        # Get the actual ratings from the test set\n",
    "        actual_ratings = test_ratings[test_ratings['user_id'] == user_id]['movie_id'].values\n",
    "        \n",
    "        # Calculate hits (recommended movies that were actually rated)\n",
    "        hit = len(set(recommended_movie_ids) & set(actual_ratings))\n",
    "\n",
    "        hits += hit\n",
    "    hits = hits / len(test_set.columns.unique()) if len(test_set.columns.unique()) > 0 else 0    \n",
    "    return hits\n",
    "\n",
    "\"\"\""
   ]
  },
  {
   "cell_type": "markdown",
   "metadata": {},
   "source": [
    "It's taking more than 119 minutes to run this program, so let's use parallelism.\n",
    "The code below performs the same task as above, but it distributes the workload across multiple CPU cores to compute recommendations for all users.\n",
    "It splits the user IDs into batches, processes them in parallel, and then aggregates the results.\n",
    "This is made possible thanks to the joblib library."
   ]
  },
  {
   "cell_type": "code",
   "execution_count": 37,
   "metadata": {},
   "outputs": [
    {
     "name": "stdout",
     "output_type": "stream",
     "text": [
      "Note: you may need to restart the kernel to use updated packages.Requirement already satisfied: joblib in c:\\users\\cytech student\\appdata\\local\\programs\\python\\python311\\lib\\site-packages (1.4.2)\n",
      "\n"
     ]
    },
    {
     "name": "stderr",
     "output_type": "stream",
     "text": [
      "\n",
      "[notice] A new release of pip is available: 25.0.1 -> 25.1.1\n",
      "[notice] To update, run: python.exe -m pip install --upgrade pip\n"
     ]
    }
   ],
   "source": [
    "pip install joblib"
   ]
  },
  {
   "cell_type": "code",
   "execution_count": 38,
   "metadata": {},
   "outputs": [],
   "source": [
    "from joblib import Parallel, delayed\n",
    "import numpy as np\n",
    "\n",
    "\n",
    "def recommend_all(test_ratings,recommend_function, user_ids, **kwargs):\n",
    "    \"\"\"\n",
    "    Recommend movies for all users in parallel, using any recommender function.\n",
    "\n",
    "    Parameters:\n",
    "        recommend_function (function): A recommender function that takes at least a user_id as first argument.\n",
    "        user_ids (list): List of user IDs to generate recommendations for.\n",
    "        **kwargs: Any additional keyword arguments required by the recommender function.\n",
    "\n",
    "    Returns:\n",
    "        dict: Dictionary {user_id: list of recommendations}\n",
    "    \"\"\"\n",
    "    def wrapped_function(user_id):\n",
    "        return user_id, recommend_function(user_id, **kwargs)\n",
    "\n",
    "    # Run in parallel across user_ids\n",
    "    recommendations_all_users = Parallel(n_jobs=-1)(\n",
    "        delayed(wrapped_function)(user_id) for user_id in user_ids\n",
    "    )\n",
    "\n",
    "    # Convert result to a dictionary\n",
    "    recommendation_dict = dict(recommendations_all_users)\n",
    "\n",
    "    \"\"\"\n",
    "    Computes the hit rate of recommendations by checking how many recommended items\n",
    "    were actually rated by the user in the test set.\n",
    "    \"\"\"\n",
    "    hits = 0\n",
    "    total_users = 0\n",
    "    \n",
    "    # Ensure test_ratings is a DataFrame with columns: user_id, movie_id\n",
    "    if not isinstance(test_ratings, pd.DataFrame):\n",
    "        raise ValueError(\"test_ratings must be a DataFrame with 'user_id' and 'movie_id' columns.\")\n",
    "    \n",
    "    for user_id, recommendations in recommendation_dict.items():\n",
    "        # Get recommended movie IDs\n",
    "        recommended_movie_ids = {movie_id for movie_id, _ in recommendations}\n",
    "\n",
    "        # Get movies the user has rated in the test set\n",
    "        actual_rated = test_ratings[test_ratings['user_id'] == user_id]['movie_id'].values\n",
    "\n",
    "        # Compute intersection (hits)\n",
    "        hit = len(set(recommended_movie_ids) & set(actual_rated))\n",
    "        hits += hit\n",
    "        total_users += 1\n",
    "\n",
    "    # Average hits per user\n",
    "    return (hits / total_users) if total_users > 0 else 0\n",
    "    \n",
    "\n"
   ]
  },
  {
   "cell_type": "markdown",
   "metadata": {},
   "source": [
    "### 1-content based approach"
   ]
  },
  {
   "cell_type": "code",
   "execution_count": 39,
   "metadata": {},
   "outputs": [],
   "source": [
    "#recommend_all(test_ratings, recommend_top_n_content, user_ids=test_set.columns.unique(), mov_matrix=mov_matrix, user_matrix=user_matrix, movies_df=movies_df, top_n=10)"
   ]
  },
  {
   "cell_type": "markdown",
   "metadata": {},
   "source": [
    "### 2- item_item approach "
   ]
  },
  {
   "cell_type": "code",
   "execution_count": 40,
   "metadata": {},
   "outputs": [],
   "source": [
    "#recommend_all(test_ratings=test_ratings, recommend_function=recommend_N, user_ids=test_set.columns.unique(), user_item_matrix=user_item_matrix, similarity_matrix=similarity_matrix, N=10, k=5)"
   ]
  },
  {
   "cell_type": "markdown",
   "metadata": {},
   "source": [
    "### 3-  (User_user) approach"
   ]
  },
  {
   "cell_type": "code",
   "execution_count": 41,
   "metadata": {},
   "outputs": [],
   "source": [
    "#recommend_all(test_ratings=test_ratings, recommend_function=recommend_top_n_movies_user, user_ids=test_set.columns.unique(), user_profile=user_profile, similarity_matrix_users=similarity_matrix_users, n=10, k=5)"
   ]
  }
 ],
 "metadata": {
  "kernelspec": {
   "display_name": "Python 3",
   "language": "python",
   "name": "python3"
  },
  "language_info": {
   "codemirror_mode": {
    "name": "ipython",
    "version": 3
   },
   "file_extension": ".py",
   "mimetype": "text/x-python",
   "name": "python",
   "nbconvert_exporter": "python",
   "pygments_lexer": "ipython3",
   "version": "3.11.9"
  }
 },
 "nbformat": 4,
 "nbformat_minor": 2
}
