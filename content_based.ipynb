{
 "cells": [
  {
   "cell_type": "code",
   "execution_count": null,
   "metadata": {},
   "outputs": [],
   "source": [
    "import numpy as np\n",
    "import pandas as pd\n",
    "import re\n",
    "import matplotlib.pyplot as plt\n",
    "import seaborn as sns\n",
    "from sklearn.metrics.pairwise import cosine_similarity"
   ]
  },
  {
   "cell_type": "code",
   "execution_count": null,
   "metadata": {},
   "outputs": [],
   "source": [
    "dataset_Diretory=\"./Datasets/ml-100k\"\n",
    "\n",
    "# Genre\n",
    "genre_df = pd.read_csv(f'{dataset_Diretory}/u.genre', sep='|', encoding='latin-1')\n",
    "genre_df.head(50)"
   ]
  },
  {
   "cell_type": "code",
   "execution_count": null,
   "metadata": {},
   "outputs": [],
   "source": [
    "# Movie\n",
    "genre_columns = [\"unknown\"] + list(genre_df[genre_df.columns[0]].values)\n",
    "movie_columns = ['movie_id', 'title', 'release_date', 'video_release_date', 'imdb_url']\n",
    "movies_df = pd.read_csv(f'{dataset_Diretory}/u.item', sep='|', names=movie_columns+genre_columns,\n",
    "                     encoding='latin-1')\n",
    "# movies_df.drop([\"video_release_date\",\"release_date\",\"imdb_url\",\"release_date\",\"movie_id\",\"title\"],axis=1,inplace=True)\n",
    "# movies_df.head()\n",
    "\n",
    "# # Cleaning timestamp from titles\n",
    "# def clean_title(title):\n",
    "#     return re.sub(\"[\\(\\[].*?[\\)\\]]\", \"\",title)\n",
    "\n",
    "# movies_df['title'] = movies_df['title'].apply(clean_title)\n",
    "# movies_df['title'] = movies_df['title'].str.strip()\n",
    "\n",
    "movies_df.head()"
   ]
  },
  {
   "cell_type": "code",
   "execution_count": null,
   "metadata": {},
   "outputs": [],
   "source": [
    "# Compute the cosine similarity matrix\n",
    "# similarity = cosine_similarity(movies_df)\n",
    "# print(similarity)"
   ]
  },
  {
   "cell_type": "code",
   "execution_count": null,
   "metadata": {},
   "outputs": [],
   "source": [
    "#Ratings\n",
    "ratings_columns = ['user_id', 'movie_id', 'rating', 'unix_timestamp']\n",
    "ratings_df = pd.read_csv(f'{dataset_Diretory}/u.data', sep='\\t', names=ratings_columns)\n",
    "ratings_df.drop( \"unix_timestamp\", inplace = True, axis = 1 ) \n",
    "ratings_df.head(2)"
   ]
  },
  {
   "cell_type": "code",
   "execution_count": null,
   "metadata": {},
   "outputs": [],
   "source": [
    "# Step 1: Merge the ratings and movies dataframes on 'movie_id'\n",
    "merged_df = pd.merge(ratings_df, movies_df, on='movie_id')\n",
    "\n",
    "# Step 2: Identify the genre columns (columns from index 5 onwards in movies_df)\n",
    "genre_cols = movies_df.columns[5:]\n",
    "\n",
    "# Multiply each genre column by the 'rating' to get weighted genres\n",
    "merged_df[genre_cols] = merged_df[genre_cols].mul(merged_df['rating'], axis=0)\n",
    "\n",
    "# Step 3: Group by 'user_id' and sum the genre columns\n",
    "user_genre_scores = merged_df.groupby('user_id')[genre_cols].sum().reset_index()\n",
    "\n",
    "# Resulting dataset\n",
    "print(user_genre_scores.head())"
   ]
  },
  {
   "cell_type": "code",
   "execution_count": null,
   "metadata": {},
   "outputs": [],
   "source": [
    "# # NORMALIZING USER DATA \n",
    "\n",
    "# # Identify genre columns (exclude 'user_id')\n",
    "# genre_cols = user_genre_scores.columns.drop('user_id')\n",
    "\n",
    "# # Calculate the maximum value for each user's row\n",
    "# max_values = user_genre_scores[genre_cols].max(axis=1)\n",
    "\n",
    "# # Normalize genre columns by dividing by the row's max value (handle zeros)\n",
    "# user_genre_scores[genre_cols] = user_genre_scores[genre_cols].div(max_values, axis=0).fillna(0)\n",
    "\n",
    "# # Display the normalized data\n",
    "# print(user_genre_scores.head())"
   ]
  },
  {
   "cell_type": "code",
   "execution_count": null,
   "metadata": {},
   "outputs": [],
   "source": [
    "def get_unrated_movies(user_id, movies_df, ratings_df):\n",
    "    # Get all unique movie IDs from the movies dataset\n",
    "    all_movies = movies_df['movie_id'].unique()\n",
    "    \n",
    "    # Get movies rated by the specific user\n",
    "    user_rated = ratings_df.loc[ratings_df['user_id'] == user_id, 'movie_id'].unique()\n",
    "    \n",
    "    # Find movies not rated by the user using set difference\n",
    "    unrated_movies = np.setdiff1d(all_movies, user_rated)\n",
    "    \n",
    "    return unrated_movies\n",
    "\n",
    "# Example: Get movies not rated by user_id = 1\n",
    "unrated_movies = get_unrated_movies(user_id=1, movies_df=movies_df, ratings_df=ratings_df)\n",
    "print(\"Unrated Movie IDs:\", len(unrated_movies))"
   ]
  },
  {
   "cell_type": "code",
   "execution_count": null,
   "metadata": {},
   "outputs": [],
   "source": [
    "mod_mov=movies_df.drop([\"video_release_date\",\"release_date\",\"imdb_url\",\"release_date\",\"movie_id\",\"title\"],axis=1,inplace=False)\n",
    "mov_matrix=mod_mov.values\n",
    "\n",
    "mod_user=user_genre_scores.drop([\"user_id\"],axis=1,inplace=False)\n",
    "user_matrix=mod_user.values\n",
    "\n",
    "score = np.dot(mov_matrix[5], user_matrix[1])\n",
    "score"
   ]
  },
  {
   "cell_type": "code",
   "execution_count": null,
   "metadata": {},
   "outputs": [],
   "source": [
    "# Calculate scores for all movies against user 1\n",
    "scores = np.dot(mov_matrix, user_matrix[582])\n",
    "helf_len=int(len(mov_matrix)/2)\n",
    "# Get indices of top 10 scores in descending order\n",
    "top_10_indices = np.argsort(scores)[-10:][::-1]\n",
    "\n",
    "# Extract corresponding scores\n",
    "top_scores = scores[top_10_indices]\n",
    "\n",
    "# Get movie details with scores\n",
    "top_10_movies = movies_df.iloc[top_10_indices].copy()\n",
    "top_10_movies['prediction_score'] = top_scores  # Add scores column\n",
    "\n",
    "# Print results with scores\n",
    "print(\"Top 10 Recommended Movies with Scores:\")\n",
    "for idx, movie in top_10_movies.iterrows():\n",
    "    print(f\"\\nScore: {movie['prediction_score']:.4f}\")\n",
    "    print(f\"Movie ID: {movie['movie_id']}\")\n",
    "    print(f\"Title: {movie['title']}\")\n",
    "    print(f\"Release Date: {movie['release_date']}\")\n",
    "    print(\"Genres:\", \", \".join([col for col in movies_df.columns[5:] if movie[col] == 1]))\n",
    "    print(f\"IMDB URL: {movie['imdb_url']}\")\n",
    "    print(\"-\" * 60)"
   ]
  }
 ],
 "metadata": {
  "kernelspec": {
   "display_name": "Python 3",
   "language": "python",
   "name": "python3"
  },
  "language_info": {
   "codemirror_mode": {
    "name": "ipython",
    "version": 3
   },
   "file_extension": ".py",
   "mimetype": "text/x-python",
   "name": "python",
   "nbconvert_exporter": "python",
   "pygments_lexer": "ipython3",
   "version": "3.12.3"
  }
 },
 "nbformat": 4,
 "nbformat_minor": 2
}
